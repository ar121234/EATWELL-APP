{
 "cells": [
  {
   "cell_type": "code",
   "execution_count": 1,
   "id": "7e822924",
   "metadata": {},
   "outputs": [],
   "source": [
    "import pandas as pd\n",
    "import numpy as np"
   ]
  },
  {
   "cell_type": "code",
   "execution_count": 9,
   "id": "4efadd97",
   "metadata": {},
   "outputs": [],
   "source": [
    "dataset=pd.read_csv(\"FoodandCalories.csv\")"
   ]
  },
  {
   "cell_type": "code",
   "execution_count": 10,
   "id": "58be3cb0",
   "metadata": {},
   "outputs": [
    {
     "data": {
      "text/plain": [
       "Index(['Food', 'Serving', 'Calories'], dtype='object')"
      ]
     },
     "execution_count": 10,
     "metadata": {},
     "output_type": "execute_result"
    }
   ],
   "source": [
    "dataset.columns\n"
   ]
  },
  {
   "cell_type": "code",
   "execution_count": 11,
   "id": "9bef2a42",
   "metadata": {},
   "outputs": [],
   "source": [
    "x=dataset[['Food', 'Serving']]"
   ]
  },
  {
   "cell_type": "code",
   "execution_count": 12,
   "id": "a06bd147",
   "metadata": {},
   "outputs": [
    {
     "data": {
      "text/html": [
       "<div>\n",
       "<style scoped>\n",
       "    .dataframe tbody tr th:only-of-type {\n",
       "        vertical-align: middle;\n",
       "    }\n",
       "\n",
       "    .dataframe tbody tr th {\n",
       "        vertical-align: top;\n",
       "    }\n",
       "\n",
       "    .dataframe thead th {\n",
       "        text-align: right;\n",
       "    }\n",
       "</style>\n",
       "<table border=\"1\" class=\"dataframe\">\n",
       "  <thead>\n",
       "    <tr style=\"text-align: right;\">\n",
       "      <th></th>\n",
       "      <th>Food</th>\n",
       "      <th>Serving</th>\n",
       "    </tr>\n",
       "  </thead>\n",
       "  <tbody>\n",
       "    <tr>\n",
       "      <th>0</th>\n",
       "      <td>Artichoke</td>\n",
       "      <td>1 artichoke (128 g)</td>\n",
       "    </tr>\n",
       "    <tr>\n",
       "      <th>1</th>\n",
       "      <td>Arugula</td>\n",
       "      <td>1 leaf (2 g)</td>\n",
       "    </tr>\n",
       "    <tr>\n",
       "      <th>2</th>\n",
       "      <td>Asparagus</td>\n",
       "      <td>1 spear (12 g)</td>\n",
       "    </tr>\n",
       "    <tr>\n",
       "      <th>3</th>\n",
       "      <td>Aubergine</td>\n",
       "      <td>1 aubergine (458 g)</td>\n",
       "    </tr>\n",
       "    <tr>\n",
       "      <th>4</th>\n",
       "      <td>Beetroot</td>\n",
       "      <td>1 beet (82 g)</td>\n",
       "    </tr>\n",
       "    <tr>\n",
       "      <th>...</th>\n",
       "      <td>...</td>\n",
       "      <td>...</td>\n",
       "    </tr>\n",
       "    <tr>\n",
       "      <th>557</th>\n",
       "      <td>Wendy’s Jr. Cheeseburger</td>\n",
       "      <td>1 burger (129 g)</td>\n",
       "    </tr>\n",
       "    <tr>\n",
       "      <th>558</th>\n",
       "      <td>Wendy’s Son of Baconator</td>\n",
       "      <td>1 burger (218 g)</td>\n",
       "    </tr>\n",
       "    <tr>\n",
       "      <th>559</th>\n",
       "      <td>Whopper</td>\n",
       "      <td>1 burger (291 g)</td>\n",
       "    </tr>\n",
       "    <tr>\n",
       "      <th>560</th>\n",
       "      <td>Zinger</td>\n",
       "      <td>1 sandwich (202 g)</td>\n",
       "    </tr>\n",
       "    <tr>\n",
       "      <th>561</th>\n",
       "      <td>Zinger Burger</td>\n",
       "      <td>1 sandwich (202 g)</td>\n",
       "    </tr>\n",
       "  </tbody>\n",
       "</table>\n",
       "<p>562 rows × 2 columns</p>\n",
       "</div>"
      ],
      "text/plain": [
       "                         Food              Serving\n",
       "0                   Artichoke  1 artichoke (128 g)\n",
       "1                     Arugula         1 leaf (2 g)\n",
       "2                   Asparagus       1 spear (12 g)\n",
       "3                   Aubergine  1 aubergine (458 g)\n",
       "4                    Beetroot        1 beet (82 g)\n",
       "..                        ...                  ...\n",
       "557  Wendy’s Jr. Cheeseburger     1 burger (129 g)\n",
       "558  Wendy’s Son of Baconator     1 burger (218 g)\n",
       "559                   Whopper     1 burger (291 g)\n",
       "560                    Zinger   1 sandwich (202 g)\n",
       "561             Zinger Burger   1 sandwich (202 g)\n",
       "\n",
       "[562 rows x 2 columns]"
      ]
     },
     "execution_count": 12,
     "metadata": {},
     "output_type": "execute_result"
    }
   ],
   "source": [
    "x"
   ]
  },
  {
   "cell_type": "code",
   "execution_count": 20,
   "id": "af4ce702",
   "metadata": {},
   "outputs": [],
   "source": [
    "from sklearn.preprocessing  import LabelEncoder"
   ]
  },
  {
   "cell_type": "code",
   "execution_count": 21,
   "id": "d754cce4",
   "metadata": {},
   "outputs": [],
   "source": [
    "food_label=LabelEncoder()"
   ]
  },
  {
   "cell_type": "code",
   "execution_count": 22,
   "id": "3f3aff40",
   "metadata": {},
   "outputs": [],
   "source": [
    "food=x['Food']"
   ]
  },
  {
   "cell_type": "code",
   "execution_count": 23,
   "id": "1f1f99f4",
   "metadata": {},
   "outputs": [],
   "source": [
    "serving=x['Serving']"
   ]
  },
  {
   "cell_type": "code",
   "execution_count": null,
   "id": "7904acab",
   "metadata": {},
   "outputs": [],
   "source": []
  },
  {
   "cell_type": "code",
   "execution_count": 24,
   "id": "e627c72d",
   "metadata": {},
   "outputs": [],
   "source": [
    "food_labeled=food_label.fit_transform(food)"
   ]
  },
  {
   "cell_type": "code",
   "execution_count": 26,
   "id": "bb90ac28",
   "metadata": {},
   "outputs": [
    {
     "data": {
      "text/plain": [
       "array([ 14,  15,  17,  18,  41,  42,  47,  56,  60,  76,  85,  86,  91,\n",
       "        92,  94, 100, 123, 126, 127, 137, 139, 148, 159, 162, 185, 187,\n",
       "       192, 211, 212, 218, 222, 223, 224, 238, 250, 254, 255, 260, 263,\n",
       "       319, 321, 330, 333, 335, 336, 350, 358, 362, 383, 391, 397, 403,\n",
       "       414, 430, 456, 463, 475, 484, 496, 497, 513, 532, 537,   0,   5,\n",
       "         6,   7,  19,  30,  50,  51,  52,  80,  99, 132, 151, 164, 165,\n",
       "       169, 194, 208, 221, 225, 230, 247, 249, 253, 261, 264, 270, 281,\n",
       "       282, 312, 316, 326, 335, 339, 348, 351, 353, 356, 364, 366, 368,\n",
       "       376, 377, 379, 395, 398, 399, 401, 406, 465, 466, 478, 480, 514,\n",
       "        27,  28,  29,  24,  40,  46,  48,  49,  25,  59,  73,  74, 539,\n",
       "       104, 106, 108, 112, 115, 119, 124, 125, 133, 137, 140, 143, 146,\n",
       "       167, 171, 172, 175, 186, 188, 197, 205, 206, 226, 232, 241, 248,\n",
       "       252, 258, 271, 273, 288, 302, 305, 323, 340, 344, 345, 349, 352,\n",
       "       354, 359, 365, 370, 382, 384, 390, 400, 402, 405, 409, 410, 420,\n",
       "       423, 424, 433, 436, 439, 440, 451, 461, 462, 476, 479, 533,   4,\n",
       "        31,  32,  59,  61,  62, 142, 144, 145, 149, 150, 182, 198, 201,\n",
       "       214, 229, 251, 307, 308, 309, 331, 357, 378, 387, 388, 396, 413,\n",
       "       415, 417, 425, 435, 452, 453, 454, 474, 489, 490, 520, 521, 523,\n",
       "       524, 525, 529, 530,   2,   8,  13,  20,  26,  79, 134, 141, 147,\n",
       "       199, 219, 235, 266, 306, 322, 332, 334, 346, 347, 355, 381, 392,\n",
       "       407, 416, 419, 429, 431, 448, 473, 486, 502, 512, 522,   3,  35,\n",
       "        36,  37,  39,  53,  57,  58,  77,  87,  88, 101, 103, 107, 110,\n",
       "       117, 120, 122, 152, 153, 154, 155, 156, 157, 158, 160, 203, 216,\n",
       "       217, 245, 262, 267, 304, 310, 318, 329, 338, 343, 352, 385, 393,\n",
       "       400, 427, 471, 482, 485, 487, 500, 501, 504, 505, 515,  33,  43,\n",
       "        75,  89, 128, 129, 131, 135, 136, 138, 161, 166, 173, 177, 179,\n",
       "       204, 207, 236, 240, 242, 243, 244, 274, 275, 276, 277, 278, 279,\n",
       "       280, 299, 300, 311, 313, 411, 426, 441, 443, 444, 445, 467, 468,\n",
       "       472, 495, 498, 499,  78,  82,  83,  93,  96, 168, 180, 182, 183,\n",
       "       190, 193, 209, 213, 259, 265, 268, 272, 284, 314, 341, 342, 360,\n",
       "       361, 367, 402, 408, 412, 432, 434, 447, 449, 450, 459, 460, 477,\n",
       "       488, 511, 527, 528, 536,  21,  22,  38,  44,  63, 538, 540,  84,\n",
       "        95, 113, 170, 174, 200, 215, 228, 234, 287, 315, 317, 325, 327,\n",
       "       363, 371, 372, 373, 374, 394, 404, 418, 422, 428, 437, 438, 457,\n",
       "       458, 469, 481, 483, 493, 503, 506, 510, 526,   1,  16,  19,  30,\n",
       "        55,  81,  90,  98, 178, 181, 191, 210, 220, 230, 237, 247, 253,\n",
       "       256, 269, 281, 282, 283, 285, 286, 320, 328, 351, 368, 369, 375,\n",
       "       379, 380, 389, 399, 421, 446, 464, 478, 514,   9,  10,  11,  12,\n",
       "        23,  34,  45,  54,  64,  65,  66,  67,  68,  69,  70,  71,  72,\n",
       "        97, 102, 105, 109, 111, 114, 116, 118, 121, 130, 163, 176, 184,\n",
       "       189, 195, 197, 196, 202, 227, 231, 233, 239, 246, 257, 289, 290,\n",
       "       291, 292, 293, 294, 295, 296, 297, 298, 301, 303, 324, 337, 386,\n",
       "       442, 455, 470, 491, 492, 494, 507, 508, 509, 516, 517, 518, 519,\n",
       "       531, 534, 535])"
      ]
     },
     "execution_count": 26,
     "metadata": {},
     "output_type": "execute_result"
    }
   ],
   "source": [
    "food_labeled"
   ]
  },
  {
   "cell_type": "code",
   "execution_count": 27,
   "id": "5df1d608",
   "metadata": {},
   "outputs": [],
   "source": [
    "serving_labeled=food_label.fit_transform(serving)"
   ]
  },
  {
   "cell_type": "code",
   "execution_count": 28,
   "id": "e1e82e90",
   "metadata": {},
   "outputs": [
    {
     "data": {
      "text/plain": [
       "array([  3, 151, 329,   4,  10, 192, 175,  16, 330, 141, 191,  39, 128,\n",
       "       334, 153,  43, 138, 140, 348, 118,  71,  50,  86,  53, 124, 137,\n",
       "        13,  46, 132, 133,  56, 175, 134, 345, 117, 148, 149, 154, 139,\n",
       "       172, 116, 292, 208, 175, 176, 185, 115, 193, 212, 215, 217, 152,\n",
       "       230, 291,  15, 332, 211, 349, 354, 353, 228, 333, 362, 179,   1,\n",
       "        98,   2,   5,   6,  65, 269,  67, 358,  42,  45,  54,  57, 119,\n",
       "       121, 127, 101,  69, 130, 136,  69, 179, 157, 155, 156, 159, 163,\n",
       "       164, 171,  64, 173, 175, 177, 131, 187, 189, 190, 129,  11, 205,\n",
       "       206, 207, 209, 216,  66, 218,  62, 335, 336,  70, 342, 343, 357,\n",
       "       268, 274, 105, 219,  85, 106, 214, 363, 145,  80,  36, 351, 226,\n",
       "       232, 338, 277, 201, 196, 279, 104, 144, 288, 109, 143,  37, 197,\n",
       "       366, 368, 199, 287, 125, 280, 282, 285, 294, 237, 239,  98, 102,\n",
       "       146, 275, 273, 273,  87, 194, 158,  12, 270, 102, 370, 184, 104,\n",
       "       257, 367, 236, 295,  44, 371, 251, 182, 380, 254, 313, 301, 233,\n",
       "       222, 225, 195, 178, 364,  14, 281, 224, 224, 341, 271, 213,  83,\n",
       "        72, 107,  84,  77,  74, 355,  61,  63,  78,  52, 347,  76,  73,\n",
       "       178, 135,  81,  63,  64,  79, 114,  72,  68,  51, 377,  77, 229,\n",
       "        68, 178, 379,  49,  79,  73,  75,  64, 350, 376, 110,  58, 352,\n",
       "        75,  56,  60, 111, 344, 344, 344, 344, 344, 344, 344, 346, 344,\n",
       "       344, 344, 344, 344, 344, 344, 344, 346, 344, 344, 344, 344, 344,\n",
       "       344, 344, 344, 344, 344, 344, 344, 344, 346, 344, 344, 100, 103,\n",
       "        93,  96,  89,  96,  38,  92,  97, 286, 286,  94,  96,  96, 100,\n",
       "        96, 100,  95,  96, 283, 100,  96, 100,  96,  96,  97,  95, 100,\n",
       "       272, 181, 100, 100,  97,  94,  96,  96,  95,  96, 104, 278,  97,\n",
       "       181,  94,  82,  97,  99, 100,  96,  91,  94,  91,  97, 264, 266,\n",
       "       261,  88, 265, 265,  90, 265, 262, 365, 167, 167,  77, 265,  47,\n",
       "       265, 263,   9, 340,   7, 339, 260, 265, 162, 162, 162, 162, 161,\n",
       "       162, 166, 167, 170, 265, 261, 265, 168,   8, 113, 327, 265, 339,\n",
       "       265, 258,  48, 265, 374, 374, 374,  64,  58, 120, 374, 374, 108,\n",
       "       374, 374, 374, 374, 293, 374, 374,  59, 374, 374, 374, 374, 374,\n",
       "       374, 378, 374, 374, 374, 112, 374, 374, 374, 374,  55, 374, 374,\n",
       "        58, 374, 374, 374, 374, 305, 308, 315, 312, 316, 297, 361, 323,\n",
       "       320, 305, 300, 311, 298, 320, 303, 307, 320, 319, 317, 302, 296,\n",
       "       321, 375, 309, 302, 223, 306, 325, 321, 322, 324, 326, 306, 319,\n",
       "       319, 309, 331, 318, 304, 310, 310, 299, 314,   0, 190,   5,   6,\n",
       "       372, 358, 356,  40, 122, 123, 126, 169, 369, 136, 356,  69, 147,\n",
       "       150, 159, 160, 164, 290, 165,  41, 358, 180, 186, 205, 369, 206,\n",
       "       209, 210, 183, 218, 259, 328, 337, 342, 357, 248, 254,  20,  20,\n",
       "       220,  35, 247, 204,  30,  33, 256, 244,  28,  34,  31,  19,  32,\n",
       "        22, 203, 245, 174, 200, 255, 242, 252, 202, 284, 267,  21, 227,\n",
       "       188, 238, 282, 240, 289, 231, 239, 234, 142, 246, 198,  27, 235,\n",
       "       174,  21, 238,  18,  23,  17, 242, 359, 242, 253, 373, 221, 276,\n",
       "       179, 244, 249, 360, 179, 179,  25, 241, 250,  29,  24,  17,  26,\n",
       "        31, 243, 243])"
      ]
     },
     "execution_count": 28,
     "metadata": {},
     "output_type": "execute_result"
    }
   ],
   "source": [
    "serving_labeled"
   ]
  },
  {
   "cell_type": "code",
   "execution_count": 35,
   "id": "7494cadc",
   "metadata": {},
   "outputs": [],
   "source": [
    "food_labeled_shaped=food_labeled.reshape(-1,1)"
   ]
  },
  {
   "cell_type": "code",
   "execution_count": 37,
   "id": "785c4759",
   "metadata": {},
   "outputs": [
    {
     "data": {
      "text/plain": [
       "(562, 1)"
      ]
     },
     "execution_count": 37,
     "metadata": {},
     "output_type": "execute_result"
    }
   ],
   "source": [
    "food_labeled_shaped.shape"
   ]
  },
  {
   "cell_type": "code",
   "execution_count": 38,
   "id": "d346dca5",
   "metadata": {},
   "outputs": [],
   "source": [
    "serving_labeled_shaped=serving_labeled.reshape(-1,1)"
   ]
  },
  {
   "cell_type": "code",
   "execution_count": 39,
   "id": "21d7e048",
   "metadata": {},
   "outputs": [
    {
     "data": {
      "text/plain": [
       "(562, 1)"
      ]
     },
     "execution_count": 39,
     "metadata": {},
     "output_type": "execute_result"
    }
   ],
   "source": [
    "serving_labeled_shaped.shape"
   ]
  },
  {
   "cell_type": "code",
   "execution_count": 40,
   "id": "94787db5",
   "metadata": {},
   "outputs": [],
   "source": [
    "x_labeled=np.hstack([food_labeled_shaped,serving_labeled_shaped])"
   ]
  },
  {
   "cell_type": "code",
   "execution_count": 42,
   "id": "45315a12",
   "metadata": {},
   "outputs": [
    {
     "data": {
      "text/plain": [
       "array([[ 14,   3],\n",
       "       [ 15, 151],\n",
       "       [ 17, 329],\n",
       "       ...,\n",
       "       [531,  31],\n",
       "       [534, 243],\n",
       "       [535, 243]])"
      ]
     },
     "execution_count": 42,
     "metadata": {},
     "output_type": "execute_result"
    }
   ],
   "source": [
    "x_labeled"
   ]
  },
  {
   "cell_type": "code",
   "execution_count": 43,
   "id": "396fd80e",
   "metadata": {},
   "outputs": [
    {
     "data": {
      "text/plain": [
       "(562, 2)"
      ]
     },
     "execution_count": 43,
     "metadata": {},
     "output_type": "execute_result"
    }
   ],
   "source": [
    "x_labeled.shape"
   ]
  },
  {
   "cell_type": "code",
   "execution_count": null,
   "id": "5e0cdf66",
   "metadata": {},
   "outputs": [],
   "source": []
  },
  {
   "cell_type": "code",
   "execution_count": 44,
   "id": "c1462ce8",
   "metadata": {},
   "outputs": [],
   "source": [
    "y=dataset['Calories']"
   ]
  },
  {
   "cell_type": "code",
   "execution_count": 45,
   "id": "b9601cac",
   "metadata": {},
   "outputs": [
    {
     "data": {
      "text/plain": [
       "0       60\n",
       "1        1\n",
       "2        2\n",
       "3      115\n",
       "4       35\n",
       "      ... \n",
       "557    290\n",
       "558    700\n",
       "559    672\n",
       "560    517\n",
       "561    517\n",
       "Name: Calories, Length: 562, dtype: int64"
      ]
     },
     "execution_count": 45,
     "metadata": {},
     "output_type": "execute_result"
    }
   ],
   "source": [
    "y"
   ]
  },
  {
   "cell_type": "code",
   "execution_count": 15,
   "id": "00379850",
   "metadata": {},
   "outputs": [
    {
     "data": {
      "text/plain": [
       "'\"  y_no=[]\\nfor i in y:\\n    for j in {i}:\\n        #if (j==\\'c\\' or j==\\'a\\' or j==\\'l\\' or j==\\' \\'):\\n         if (j>=48 and j<=57):\\n                no=j;\\n      \\n         y_no=no;\\n            '"
      ]
     },
     "execution_count": 15,
     "metadata": {},
     "output_type": "execute_result"
    }
   ],
   "source": [
    "\"\"\"\"  y_no=[]\n",
    "for i in y:\n",
    "    for j in {i}:\n",
    "        #if (j=='c' or j=='a' or j=='l' or j==' '):\n",
    "         if (j>=48 and j<=57):\n",
    "                no=j;\n",
    "      \n",
    "         y_no=no;\n",
    "            \"\"\""
   ]
  },
  {
   "cell_type": "code",
   "execution_count": 46,
   "id": "e086e13a",
   "metadata": {},
   "outputs": [],
   "source": [
    "from sklearn.linear_model import LinearRegression"
   ]
  },
  {
   "cell_type": "code",
   "execution_count": 47,
   "id": "30787239",
   "metadata": {},
   "outputs": [],
   "source": [
    "model=LinearRegression()"
   ]
  },
  {
   "cell_type": "code",
   "execution_count": 48,
   "id": "43d59cda",
   "metadata": {},
   "outputs": [
    {
     "data": {
      "text/plain": [
       "LinearRegression()"
      ]
     },
     "execution_count": 48,
     "metadata": {},
     "output_type": "execute_result"
    }
   ],
   "source": [
    "model.fit(x_labeled,y)"
   ]
  },
  {
   "cell_type": "code",
   "execution_count": 50,
   "id": "fa4c7baa",
   "metadata": {},
   "outputs": [
    {
     "ename": "TypeError",
     "evalue": "'method' object is not subscriptable",
     "output_type": "error",
     "traceback": [
      "\u001b[1;31m---------------------------------------------------------------------------\u001b[0m",
      "\u001b[1;31mTypeError\u001b[0m                                 Traceback (most recent call last)",
      "\u001b[1;32m~\\AppData\\Local\\Temp/ipykernel_7452/1120904611.py\u001b[0m in \u001b[0;36m<module>\u001b[1;34m\u001b[0m\n\u001b[1;32m----> 1\u001b[1;33m \u001b[0mmodel\u001b[0m\u001b[1;33m.\u001b[0m\u001b[0mpredict\u001b[0m\u001b[1;33m[\u001b[0m\u001b[1;34m'Mango'\u001b[0m\u001b[1;33m,\u001b[0m\u001b[1;34m'1 mango (336 g)'\u001b[0m\u001b[1;33m]\u001b[0m\u001b[1;33m\u001b[0m\u001b[1;33m\u001b[0m\u001b[0m\n\u001b[0m",
      "\u001b[1;31mTypeError\u001b[0m: 'method' object is not subscriptable"
     ]
    }
   ],
   "source": [
    "model.predict['Mango','1 mango (336 g)']"
   ]
  },
  {
   "cell_type": "code",
   "execution_count": null,
   "id": "eef33c32",
   "metadata": {},
   "outputs": [],
   "source": []
  }
 ],
 "metadata": {
  "kernelspec": {
   "display_name": "Python 3 (ipykernel)",
   "language": "python",
   "name": "python3"
  },
  "language_info": {
   "codemirror_mode": {
    "name": "ipython",
    "version": 3
   },
   "file_extension": ".py",
   "mimetype": "text/x-python",
   "name": "python",
   "nbconvert_exporter": "python",
   "pygments_lexer": "ipython3",
   "version": "3.9.7"
  }
 },
 "nbformat": 4,
 "nbformat_minor": 5
}
